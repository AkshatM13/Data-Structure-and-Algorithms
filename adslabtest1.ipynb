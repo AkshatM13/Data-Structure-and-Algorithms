{
 "cells": [
  {
   "cell_type": "markdown",
   "metadata": {},
   "source": [
    "Event slot booking System\n",
    "Design event slot booking system with following requirements and conditions. Let us assume that total \n",
    "number of slots available in a day is ‘n’. The event will be spread across 3 days and maximum number of \n",
    "attendees will be 3 x n. Let us assume that event is university convocation. Total number of students from \n",
    "all institutions is less than 3x n. Each institution should provide number of students attending the event\n",
    "in advance. The maximum number of students allowed from one institution in a single day is 50% of total \n",
    "count submitted. Students should register for an event by providing name, register number, preferred day \n",
    "(Day1, Day2 or Day3). Depending on the number of slot available system will a lot the day based on \n",
    "availability and preferred day. Provide the following functionalities:\n",
    "❖ Institutions give requests for expected number of students planning to attend across 3 days.\n",
    "❖ Student should have slot booking provision with choices.\n",
    "❖ Count of students from each institution for day1, day2 and day3.\n",
    "❖ On inputting day, institution should get list of students who participate on that day from the \n",
    "institute."
   ]
  },
  {
   "cell_type": "code",
   "execution_count": 10,
   "metadata": {},
   "outputs": [
    {
     "name": "stdout",
     "output_type": "stream",
     "text": [
      "Student Akshat allotted slot on Day1\n",
      "Student Rishi allotted slot on Day1\n",
      "Student Sanjay allotted slot on Day2\n",
      "{'Day1': {'InstA': 2}, 'Day2': {'InstB': 1}, 'Day3': {}}\n",
      "Students from InstA on Day1: [{'name': 'Akshat', 'reg_number': '23', 'institution': 'InstA'}, {'name': 'Rishi', 'reg_number': '24', 'institution': 'InstA'}]\n"
     ]
    }
   ],
   "source": [
    "class EventSlotBooking:\n",
    "    def __init__(self, n):\n",
    "        self.n = n\n",
    "        self.institutions = {}\n",
    "        self.slots = {\n",
    "            'Day1': {'remaining': n, 'students': []},\n",
    "            'Day2': {'remaining': n, 'students': []},\n",
    "            'Day3': {'remaining': n, 'students': []}\n",
    "        }\n",
    "        self.waiting = []\n",
    "\n",
    "    def request_slots(self, institution, count):\n",
    "        self.institutions[institution] = count\n",
    "\n",
    "    def register_student(self, name, reg_number, institution, preferred_day):\n",
    "        if institution not in self.institutions:\n",
    "            return \"Institution not registered\"\n",
    "        max_per_day = self.institutions[institution] // 2\n",
    "\n",
    "        total_remaining = sum(slot['remaining'] for slot in self.slots.values())\n",
    "        if total_remaining <= 0:\n",
    "            return \"Event is fully booked.\"\n",
    "        if len([s for s in self.slots[preferred_day]['students'] if s['institution'] == institution]) >= max_per_day:\n",
    "            return f\"Institution limit reached for {preferred_day}\"\n",
    "        if self.slots[preferred_day]['remaining'] > 0:\n",
    "            self.slots[preferred_day]['students'].append({\n",
    "                'name': name, 'reg_number': reg_number, 'institution': institution\n",
    "            })\n",
    "            self.slots[preferred_day]['remaining'] -= 1\n",
    "            return f\"Student {name} allotted slot on {preferred_day}\"\n",
    "        self.waiting.append({'name': name, 'reg_number': reg_number, 'institution': institution, 'preferred_day': preferred_day})\n",
    "        return f\"Student {name} added to waiting list\"\n",
    "\n",
    "    def count_students_by_day(self):\n",
    "        counts = {day: {} for day in self.slots}\n",
    "        for day, info in self.slots.items():\n",
    "            for student in info['students']:\n",
    "                institution = student['institution']\n",
    "                if institution not in counts[day]:\n",
    "                    counts[day][institution] = 0\n",
    "                counts[day][institution] += 1\n",
    "        return counts\n",
    "\n",
    "    def list_students_by_institution_and_day(self, institution, day):\n",
    "        if institution not in self.institutions:\n",
    "            return \"Institution not registered\"\n",
    "        return [student for student in self.slots[day]['students'] if student['institution'] == institution]\n",
    "\n",
    "\n",
    "# Example \n",
    "event = EventSlotBooking(n=100)\n",
    "event.request_slots(\"InstA\", 120) \n",
    "event.request_slots(\"InstB\", 150)  \n",
    "\n",
    "\n",
    "print(event.register_student(\"Akshat\", \"23\", \"InstA\", \"Day1\"))\n",
    "print(event.register_student(\"Rishi\", \"24\", \"InstA\", \"Day1\"))\n",
    "print(event.register_student(\"Sanjay\", \"25\", \"InstB\", \"Day2\"))\n",
    "print(event.count_students_by_day())\n",
    "students_list = event.list_students_by_institution_and_day(\"InstA\", \"Day1\")\n",
    "print(f\"Students from InstA on Day1: {students_list}\")\n",
    "\n"
   ]
  }
 ],
 "metadata": {
  "kernelspec": {
   "display_name": "Python 3",
   "language": "python",
   "name": "python3"
  },
  "language_info": {
   "codemirror_mode": {
    "name": "ipython",
    "version": 3
   },
   "file_extension": ".py",
   "mimetype": "text/x-python",
   "name": "python",
   "nbconvert_exporter": "python",
   "pygments_lexer": "ipython3",
   "version": "3.11.0"
  }
 },
 "nbformat": 4,
 "nbformat_minor": 2
}
